{
 "cells": [
  {
   "cell_type": "code",
   "execution_count": 1,
   "metadata": {},
   "outputs": [
    {
     "name": "stdout",
     "output_type": "stream",
     "text": [
      "https://www.cars.co.za/searchVehicle.php?new_or_used=&make_model=BMW%5BM3%5D&vfs_area=&agent_locality=&price_range=&os=&locality=&commercial_type=&body_type_exact=&transmission=&fuel_type=&login_type=&mapped_colour=&vfs_year=&vfs_mileage=&vehicle_axle_config=&keyword=&sort=&P=1\n",
      "https://www.cars.co.za/searchVehicle.php?new_or_used=&make_model=BMW%5BM3%5D&vfs_area=&agent_locality=&price_range=&os=&locality=&commercial_type=&body_type_exact=&transmission=&fuel_type=&login_type=&mapped_colour=&vfs_year=&vfs_mileage=&vehicle_axle_config=&keyword=&sort=&P=2\n",
      "https://www.cars.co.za/searchVehicle.php?new_or_used=&make_model=BMW%5BM3%5D&vfs_area=&agent_locality=&price_range=&os=&locality=&commercial_type=&body_type_exact=&transmission=&fuel_type=&login_type=&mapped_colour=&vfs_year=&vfs_mileage=&vehicle_axle_config=&keyword=&sort=&P=3\n",
      "https://www.cars.co.za/searchVehicle.php?new_or_used=&make_model=BMW%5BM3%5D&vfs_area=&agent_locality=&price_range=&os=&locality=&commercial_type=&body_type_exact=&transmission=&fuel_type=&login_type=&mapped_colour=&vfs_year=&vfs_mileage=&vehicle_axle_config=&keyword=&sort=&P=4\n",
      " \n",
      "Run time= 1.036s\n",
      "Run time= 0.017m\n",
      " \n"
     ]
    }
   ],
   "source": [
    "# Imports\n",
    "import requests\n",
    "from bs4 import BeautifulSoup\n",
    "import pandas\n",
    "import time\n",
    "\n",
    "# Create Variables\n",
    "t0 = time.time()\n",
    "r=requests.get(\"https://www.cars.co.za/searchVehicle.php?new_or_used=&make_model=BMW%5BM3%5D&vfs_area=&agent_locality=&price_range=&os=&locality=&commercial_type=&body_type_exact=&transmission=&fuel_type=&login_type=&mapped_colour=&vfs_year=&vfs_mileage=&vehicle_axle_config=&keyword=&sort=vfs_price\", \n",
    "               headers={'User-agent': 'Mozilla/5.0 (X11; Ubuntu; Linux x86_64; rv:61.0) Gecko/20100101 Firefox/61.0'})\n",
    "c=r.content\n",
    "soup=BeautifulSoup(c,\"html.parser\")\n",
    "all=soup.find_all(\"div\",{\"class\":\"item clearfix vehicle-list__item\"})\n",
    "l=[]\n",
    "base_url= \"https://www.cars.co.za/searchVehicle.php?new_or_used=&make_model=BMW%5BM3%5D&vfs_area=&agent_locality=&price_range=&os=&locality=&commercial_type=&body_type_exact=&transmission=&fuel_type=&login_type=&mapped_colour=&vfs_year=&vfs_mileage=&vehicle_axle_config=&keyword=&sort=\"\n",
    "\n",
    "# For Loop running through each page and pulling content\n",
    "for page in range(1,5,1):\n",
    "    print(base_url+\"&P=\"+str(page))\n",
    "    r=requests.get(base_url+\"&P=\"+str(page))\n",
    "    c=r.content\n",
    "    soup=BeautifulSoup(c,\"html.parser\")\n",
    "    all=soup.find_all(\"div\",{\"class\":\"item clearfix vehicle-list__item\"})\n",
    "    \n",
    "    # For Loop drawing each attribute from specific HTML division\n",
    "    for item in all :\n",
    "        d={}\n",
    "        d[\"Price\"]=item.find(\"span\",{\"class\":\"price vehicle-list__vehicle-price\"}).text.replace(\"\\n\",\"\").replace(\" \",\"\").replace(\"\\t\",\"\").replace(\"\\xa0\",\" \")\n",
    "        d[\"Title\"]=item.find_all(\"a\",{\"class\",\"vehicle-list__vehicle-name\"})[0].text.replace(\"\\n\",\"\").replace(\"\\t\",\"\")\n",
    "        d[\"Year\"]=item.find_all(\"li\",{\"class\",\"vehicle-list__vehicle-attr vehicle-list__ie7icon-0\"})[0].text\n",
    "        d[\"Mileage\"]=item.find_all(\"li\",{\"class\",\"vehicle-list__vehicle-attr vehicle-list__ie7icon-1\"})[0].text.replace(\"\\xa0\",\" \")\n",
    "        d[\"Transmission\"]=item.find_all(\"li\",{\"class\",\"vehicle-list__vehicle-attr vehicle-list__ie7icon-2\"})[0].text\n",
    "        d[\"Fuel Type\"]=item.find_all(\"li\",{\"class\",\"vehicle-list__vehicle-attr vehicle-list__ie7icon-3\"})[0].text\n",
    "        d[\"Location\"]=item.find_all(\"div\",{\"class\",\"vehicle-type-locality vehicle-list__vehicle-location\"})[0].text.replace(\"\\n\",\"\")            \n",
    "            \n",
    "        l.append(d)\n",
    "\n",
    "        \n",
    "# Timing of code        \n",
    "t1 = time.time()\n",
    "total = round(t1-t0,3)\n",
    "totalm = round(total/60,3)\n",
    "print(\" \")\n",
    "print(\"Run time= {0}s\".format(total))\n",
    "print(\"Run time= {0}m\".format(totalm))\n",
    "print(\" \")\n",
    "              \n",
    "# Create DataFrame \n",
    "df=pandas.DataFrame(l)\n",
    "#df\n",
    "\n",
    "# Write To Csv File - need to manuially change name otherwise old file will be overwritten\n",
    "df.to_csv(\"Cars_BMW_M3_Scrap_1.csv\")\n",
    "\n"
   ]
  },
  {
   "cell_type": "code",
   "execution_count": null,
   "metadata": {},
   "outputs": [],
   "source": []
  }
 ],
 "metadata": {
  "kernelspec": {
   "display_name": "Python 3",
   "language": "python",
   "name": "python3"
  },
  "language_info": {
   "codemirror_mode": {
    "name": "ipython",
    "version": 3
   },
   "file_extension": ".py",
   "mimetype": "text/x-python",
   "name": "python",
   "nbconvert_exporter": "python",
   "pygments_lexer": "ipython3",
   "version": "3.8.5"
  }
 },
 "nbformat": 4,
 "nbformat_minor": 4
}
